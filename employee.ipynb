{
 "cells": [
  {
   "cell_type": "code",
   "execution_count": 117,
   "metadata": {},
   "outputs": [
    {
     "data": {
      "text/html": [
       "<div>\n",
       "<style scoped>\n",
       "    .dataframe tbody tr th:only-of-type {\n",
       "        vertical-align: middle;\n",
       "    }\n",
       "\n",
       "    .dataframe tbody tr th {\n",
       "        vertical-align: top;\n",
       "    }\n",
       "\n",
       "    .dataframe thead th {\n",
       "        text-align: right;\n",
       "    }\n",
       "</style>\n",
       "<table border=\"1\" class=\"dataframe\">\n",
       "  <thead>\n",
       "    <tr style=\"text-align: right;\">\n",
       "      <th></th>\n",
       "      <th>groups</th>\n",
       "      <th>age</th>\n",
       "      <th>healthy_eating</th>\n",
       "      <th>active_lifestyle</th>\n",
       "      <th>salary</th>\n",
       "    </tr>\n",
       "  </thead>\n",
       "  <tbody>\n",
       "    <tr>\n",
       "      <th>0</th>\n",
       "      <td>A</td>\n",
       "      <td>36</td>\n",
       "      <td>5</td>\n",
       "      <td>5</td>\n",
       "      <td>2297</td>\n",
       "    </tr>\n",
       "    <tr>\n",
       "      <th>1</th>\n",
       "      <td>A</td>\n",
       "      <td>55</td>\n",
       "      <td>3</td>\n",
       "      <td>5</td>\n",
       "      <td>1134</td>\n",
       "    </tr>\n",
       "    <tr>\n",
       "      <th>2</th>\n",
       "      <td>A</td>\n",
       "      <td>61</td>\n",
       "      <td>8</td>\n",
       "      <td>1</td>\n",
       "      <td>4969</td>\n",
       "    </tr>\n",
       "    <tr>\n",
       "      <th>3</th>\n",
       "      <td>O</td>\n",
       "      <td>29</td>\n",
       "      <td>3</td>\n",
       "      <td>6</td>\n",
       "      <td>902</td>\n",
       "    </tr>\n",
       "    <tr>\n",
       "      <th>4</th>\n",
       "      <td>O</td>\n",
       "      <td>34</td>\n",
       "      <td>6</td>\n",
       "      <td>2</td>\n",
       "      <td>3574</td>\n",
       "    </tr>\n",
       "    <tr>\n",
       "      <th>...</th>\n",
       "      <td>...</td>\n",
       "      <td>...</td>\n",
       "      <td>...</td>\n",
       "      <td>...</td>\n",
       "      <td>...</td>\n",
       "    </tr>\n",
       "    <tr>\n",
       "      <th>995</th>\n",
       "      <td>O</td>\n",
       "      <td>33</td>\n",
       "      <td>7</td>\n",
       "      <td>7</td>\n",
       "      <td>2996</td>\n",
       "    </tr>\n",
       "    <tr>\n",
       "      <th>996</th>\n",
       "      <td>O</td>\n",
       "      <td>21</td>\n",
       "      <td>1</td>\n",
       "      <td>2</td>\n",
       "      <td>667</td>\n",
       "    </tr>\n",
       "    <tr>\n",
       "      <th>997</th>\n",
       "      <td>O</td>\n",
       "      <td>49</td>\n",
       "      <td>9</td>\n",
       "      <td>7</td>\n",
       "      <td>4158</td>\n",
       "    </tr>\n",
       "    <tr>\n",
       "      <th>998</th>\n",
       "      <td>AB</td>\n",
       "      <td>56</td>\n",
       "      <td>6</td>\n",
       "      <td>7</td>\n",
       "      <td>2414</td>\n",
       "    </tr>\n",
       "    <tr>\n",
       "      <th>999</th>\n",
       "      <td>B</td>\n",
       "      <td>64</td>\n",
       "      <td>4</td>\n",
       "      <td>9</td>\n",
       "      <td>788</td>\n",
       "    </tr>\n",
       "  </tbody>\n",
       "</table>\n",
       "<p>1000 rows × 5 columns</p>\n",
       "</div>"
      ],
      "text/plain": [
       "    groups  age  healthy_eating  active_lifestyle  salary\n",
       "0        A   36               5                 5    2297\n",
       "1        A   55               3                 5    1134\n",
       "2        A   61               8                 1    4969\n",
       "3        O   29               3                 6     902\n",
       "4        O   34               6                 2    3574\n",
       "..     ...  ...             ...               ...     ...\n",
       "995      O   33               7                 7    2996\n",
       "996      O   21               1                 2     667\n",
       "997      O   49               9                 7    4158\n",
       "998     AB   56               6                 7    2414\n",
       "999      B   64               4                 9     788\n",
       "\n",
       "[1000 rows x 5 columns]"
      ]
     },
     "execution_count": 117,
     "metadata": {},
     "output_type": "execute_result"
    }
   ],
   "source": [
    "import pandas as pd\n",
    "\n",
    "data_path = \"/home/rouven/python/UebungDatascience/KaggleDatasets/data/employee_data.csv\"\n",
    "\n",
    "df = pd.read_csv(data_path, index_col=\"Unnamed: 0\").drop(columns=[\"id\"])\n",
    "df\n"
   ]
  },
  {
   "cell_type": "code",
   "execution_count": 118,
   "metadata": {},
   "outputs": [
    {
     "name": "stdout",
     "output_type": "stream",
     "text": [
      "<class 'pandas.core.frame.DataFrame'>\n",
      "Index: 1000 entries, 0 to 999\n",
      "Data columns (total 5 columns):\n",
      " #   Column            Non-Null Count  Dtype \n",
      "---  ------            --------------  ----- \n",
      " 0   groups            1000 non-null   object\n",
      " 1   age               1000 non-null   int64 \n",
      " 2   healthy_eating    1000 non-null   int64 \n",
      " 3   active_lifestyle  1000 non-null   int64 \n",
      " 4   salary            1000 non-null   int64 \n",
      "dtypes: int64(4), object(1)\n",
      "memory usage: 46.9+ KB\n"
     ]
    }
   ],
   "source": [
    "df.info()"
   ]
  },
  {
   "cell_type": "code",
   "execution_count": 119,
   "metadata": {},
   "outputs": [
    {
     "data": {
      "text/plain": [
       "groups\n",
       "A     375\n",
       "O     375\n",
       "AB    125\n",
       "B     125\n",
       "Name: count, dtype: int64"
      ]
     },
     "execution_count": 119,
     "metadata": {},
     "output_type": "execute_result"
    }
   ],
   "source": [
    "df[\"groups\"].value_counts()"
   ]
  },
  {
   "cell_type": "code",
   "execution_count": 120,
   "metadata": {},
   "outputs": [
    {
     "data": {
      "text/plain": [
       "healthy_eating\n",
       "5     179\n",
       "6     176\n",
       "4     173\n",
       "3     138\n",
       "7     116\n",
       "8      73\n",
       "2      71\n",
       "9      26\n",
       "1      25\n",
       "0      14\n",
       "10      9\n",
       "Name: count, dtype: int64"
      ]
     },
     "execution_count": 120,
     "metadata": {},
     "output_type": "execute_result"
    }
   ],
   "source": [
    "df[\"healthy_eating\"].value_counts()"
   ]
  },
  {
   "cell_type": "code",
   "execution_count": 121,
   "metadata": {},
   "outputs": [
    {
     "data": {
      "text/plain": [
       "active_lifestyle\n",
       "6     213\n",
       "5     168\n",
       "7     163\n",
       "8     114\n",
       "4     104\n",
       "3      92\n",
       "9      64\n",
       "2      34\n",
       "1      26\n",
       "10     15\n",
       "0       7\n",
       "Name: count, dtype: int64"
      ]
     },
     "execution_count": 121,
     "metadata": {},
     "output_type": "execute_result"
    }
   ],
   "source": [
    "df[\"active_lifestyle\"].value_counts()"
   ]
  },
  {
   "cell_type": "code",
   "execution_count": 122,
   "metadata": {},
   "outputs": [],
   "source": [
    "X = df.drop(columns=\"salary\")\n",
    "y = df[\"salary\"]"
   ]
  },
  {
   "cell_type": "code",
   "execution_count": 123,
   "metadata": {},
   "outputs": [
    {
     "name": "stdout",
     "output_type": "stream",
     "text": [
      "    groups  age  healthy_eating  active_lifestyle\n",
      "0        A   36               5                 5\n",
      "1        A   55               3                 5\n",
      "2        A   61               8                 1\n",
      "3        O   29               3                 6\n",
      "4        O   34               6                 2\n",
      "..     ...  ...             ...               ...\n",
      "995      O   33               7                 7\n",
      "996      O   21               1                 2\n",
      "997      O   49               9                 7\n",
      "998     AB   56               6                 7\n",
      "999      B   64               4                 9\n",
      "\n",
      "[1000 rows x 4 columns]\n"
     ]
    }
   ],
   "source": [
    "print(X)"
   ]
  },
  {
   "cell_type": "code",
   "execution_count": 124,
   "metadata": {},
   "outputs": [],
   "source": [
    "categorical_cols = [0]\n",
    "ordinal_cols = [2, 3]\n",
    "numeric_cols = [1]"
   ]
  },
  {
   "cell_type": "markdown",
   "metadata": {},
   "source": [
    "### Helper"
   ]
  },
  {
   "cell_type": "code",
   "execution_count": 125,
   "metadata": {},
   "outputs": [],
   "source": [
    "def print_grid_cv_results(grid_result) -> None:\n",
    "    print(f\"Best model score: {grid_result.best_score_} Best model params: {grid_result.best_params_} \")\n",
    "    means = grid_result.cv_results_[\"mean_test_score\"]\n",
    "    stds = grid_result.cv_results_[\"std_test_score\"]\n",
    "    params = grid_result.cv_results_[\"params\"]\n",
    "\n",
    "    for mean, std, param in zip(means, stds, params):\n",
    "        mean_ = round(mean, 4)\n",
    "        std_ = round(std, 4)\n",
    "        print(f\"{mean_} (+/- {2 * std_}) with: {param}\")\n"
   ]
  },
  {
   "cell_type": "code",
   "execution_count": 126,
   "metadata": {},
   "outputs": [],
   "source": [
    "X = X.to_numpy()\n",
    "y = y.to_numpy()\n"
   ]
  },
  {
   "cell_type": "code",
   "execution_count": 127,
   "metadata": {},
   "outputs": [],
   "source": [
    "from sklearn.model_selection import train_test_split\n",
    "\n",
    "X_train, X_test, y_train, y_test = train_test_split(X, y, test_size=0.2)"
   ]
  },
  {
   "cell_type": "code",
   "execution_count": 128,
   "metadata": {},
   "outputs": [
    {
     "data": {
      "text/plain": [
       "array([['A', 54, 8, 5],\n",
       "       ['O', 64, 6, 5],\n",
       "       ['O', 28, 3, 3],\n",
       "       ...,\n",
       "       ['A', 30, 3, 2],\n",
       "       ['O', 34, 2, 8],\n",
       "       ['A', 32, 6, 6]], shape=(800, 4), dtype=object)"
      ]
     },
     "execution_count": 128,
     "metadata": {},
     "output_type": "execute_result"
    }
   ],
   "source": [
    "X_train"
   ]
  },
  {
   "cell_type": "markdown",
   "metadata": {},
   "source": [
    "## Pipe with passthrough of ordinals"
   ]
  },
  {
   "cell_type": "code",
   "execution_count": 129,
   "metadata": {},
   "outputs": [
    {
     "data": {
      "text/plain": [
       "array([[0.9333617060884627, 1.0, 0.0, ..., 0.0, 8, 5],\n",
       "       [1.6784863092925044, 0.0, 0.0, ..., 1.0, 6, 5],\n",
       "       [-1.003962262242046, 0.0, 0.0, ..., 1.0, 3, 3],\n",
       "       ...,\n",
       "       [-0.8549373416012377, 1.0, 0.0, ..., 0.0, 3, 2],\n",
       "       [-0.556887500319621, 0.0, 0.0, ..., 1.0, 2, 8],\n",
       "       [-0.7059124209604293, 1.0, 0.0, ..., 0.0, 6, 6]],\n",
       "      shape=(800, 7), dtype=object)"
      ]
     },
     "execution_count": 129,
     "metadata": {},
     "output_type": "execute_result"
    }
   ],
   "source": [
    "from sklearn.pipeline import Pipeline\n",
    "from sklearn.compose import ColumnTransformer\n",
    "from sklearn.preprocessing import StandardScaler\n",
    "from sklearn.preprocessing import OneHotEncoder\n",
    "\n",
    "\n",
    "numeric_pipeline = Pipeline([(\"standardscaler\", StandardScaler())])\n",
    "\n",
    "categorical_pipeline = Pipeline([(\"oneHotEncoder\", OneHotEncoder(sparse_output=False))])\n",
    "\n",
    "trf = ColumnTransformer(\n",
    "    [\n",
    "        (\"num_pipe\", numeric_pipeline, numeric_cols),\n",
    "        (\"cat_pipe\", categorical_pipeline, categorical_cols),\n",
    "        (\"pass\", \"passthrough\", ordinal_cols),\n",
    "    ]\n",
    ")\n",
    "\n",
    "X_train_pass = trf.fit_transform(X_train)\n",
    "X_test_pass = trf.transform(X_test)\n",
    "X_train_pass"
   ]
  },
  {
   "cell_type": "markdown",
   "metadata": {},
   "source": [
    "## Pipe with MinMax of ordinals"
   ]
  },
  {
   "cell_type": "code",
   "execution_count": 130,
   "metadata": {},
   "outputs": [
    {
     "data": {
      "text/plain": [
       "array([[ 0.93336171,  1.        ,  0.        , ...,  0.        ,\n",
       "         0.8       ,  0.5       ],\n",
       "       [ 1.67848631,  0.        ,  0.        , ...,  1.        ,\n",
       "         0.6       ,  0.5       ],\n",
       "       [-1.00396226,  0.        ,  0.        , ...,  1.        ,\n",
       "         0.3       ,  0.3       ],\n",
       "       ...,\n",
       "       [-0.85493734,  1.        ,  0.        , ...,  0.        ,\n",
       "         0.3       ,  0.2       ],\n",
       "       [-0.5568875 ,  0.        ,  0.        , ...,  1.        ,\n",
       "         0.2       ,  0.8       ],\n",
       "       [-0.70591242,  1.        ,  0.        , ...,  0.        ,\n",
       "         0.6       ,  0.6       ]], shape=(800, 7))"
      ]
     },
     "execution_count": 130,
     "metadata": {},
     "output_type": "execute_result"
    }
   ],
   "source": [
    "from sklearn.preprocessing import MinMaxScaler\n",
    "\n",
    "\n",
    "numeric_pipeline = Pipeline([(\"standardscaler\", StandardScaler())])\n",
    "\n",
    "categorical_pipeline = Pipeline([(\"oneHotEncoder\", OneHotEncoder(sparse_output=False))])\n",
    "\n",
    "ordinal_pipeline = Pipeline([(\"MinMax\", MinMaxScaler())])\n",
    "\n",
    "trf = ColumnTransformer(\n",
    "    [\n",
    "        (\"num_pipe\", numeric_pipeline, numeric_cols),\n",
    "        (\"cat_pipe\", categorical_pipeline, categorical_cols),\n",
    "        (\"ord_pipe\", ordinal_pipeline, ordinal_cols),\n",
    "    ]\n",
    ")\n",
    "\n",
    "\n",
    "X_train_minmax = trf.fit_transform(X_train)\n",
    "X_test_minmax = trf.transform(X_test)\n",
    "X_train_minmax\n"
   ]
  },
  {
   "cell_type": "markdown",
   "metadata": {},
   "source": [
    "## LinearRegression Baseline"
   ]
  },
  {
   "cell_type": "markdown",
   "metadata": {},
   "source": [
    "### pass through"
   ]
  },
  {
   "cell_type": "code",
   "execution_count": 131,
   "metadata": {},
   "outputs": [
    {
     "name": "stdout",
     "output_type": "stream",
     "text": [
      "r2 score: 0.906593244496742\n",
      "mse: 101570.74509289958\n"
     ]
    }
   ],
   "source": [
    "from sklearn.linear_model import LinearRegression\n",
    "from sklearn.metrics import r2_score, mean_squared_error\n",
    "\n",
    "linreg = LinearRegression()\n",
    "linreg.fit(X_train_pass, y_train)\n",
    "y_pred = linreg.predict(X_test_pass)\n",
    "\n",
    "r2 = r2_score(y_test, y_pred)\n",
    "mse = mean_squared_error(y_test, y_pred)\n",
    "\n",
    "print(f\"r2 score: {r2}\")\n",
    "print(f\"mse: {mse}\")"
   ]
  },
  {
   "cell_type": "markdown",
   "metadata": {},
   "source": [
    "### minmax scaled"
   ]
  },
  {
   "cell_type": "code",
   "execution_count": 132,
   "metadata": {},
   "outputs": [
    {
     "name": "stdout",
     "output_type": "stream",
     "text": [
      "r2 score: 0.9065932444967424\n",
      "mse: 101570.74509289912\n"
     ]
    }
   ],
   "source": [
    "linreg = LinearRegression()\n",
    "linreg.fit(X_train_minmax, y_train)\n",
    "y_pred = linreg.predict(X_test_minmax)\n",
    "\n",
    "r2 = r2_score(y_test, y_pred)\n",
    "mse = mean_squared_error(y_test, y_pred)\n",
    "\n",
    "print(f\"r2 score: {r2}\")\n",
    "print(f\"mse: {mse}\")\n"
   ]
  },
  {
   "cell_type": "markdown",
   "metadata": {},
   "source": [
    "## KNNRegressor "
   ]
  },
  {
   "cell_type": "code",
   "execution_count": null,
   "metadata": {},
   "outputs": [],
   "source": [
    "from sklearn.neighbors import KNeighborsRegressor"
   ]
  },
  {
   "cell_type": "code",
   "execution_count": null,
   "metadata": {},
   "outputs": [],
   "source": [
    "from sklearn.model_selection import GridSearchCV\n"
   ]
  }
 ],
 "metadata": {
  "kernelspec": {
   "display_name": "venv",
   "language": "python",
   "name": "python3"
  },
  "language_info": {
   "codemirror_mode": {
    "name": "ipython",
    "version": 3
   },
   "file_extension": ".py",
   "mimetype": "text/x-python",
   "name": "python",
   "nbconvert_exporter": "python",
   "pygments_lexer": "ipython3",
   "version": "3.12.3"
  }
 },
 "nbformat": 4,
 "nbformat_minor": 2
}
